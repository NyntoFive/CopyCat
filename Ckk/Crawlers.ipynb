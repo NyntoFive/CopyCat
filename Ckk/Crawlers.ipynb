{
 "cells": [
  {
   "cell_type": "markdown",
   "metadata": {},
   "source": [
    "![Spider Ninja](static/images/NynLOGO.png)\n"
   ]
  },
  {
   "cell_type": "markdown",
   "metadata": {},
   "source": [
    "# CKK Product Spider / Scripts "
   ]
  },
  {
   "cell_type": "code",
   "execution_count": 14,
   "metadata": {},
   "outputs": [],
   "source": [
    "import requests\n",
    "from lxml import html\n",
    "import os\n",
    "import glob\n",
    "import urllib\n",
    "import arrow\n",
    "from requests_html import HTMLSession\n",
    "import datetime"
   ]
  },
  {
   "cell_type": "markdown",
   "metadata": {},
   "source": [
    "* fetch sitemap for each site\n",
    "* determine what urls to crawl\n",
    "* Load crawl data into django\n",
    "* Tags\n",
    "* Split-View Template\n",
    "* DIY Configurator template\n"
   ]
  },
  {
   "cell_type": "code",
   "execution_count": 15,
   "metadata": {},
   "outputs": [],
   "source": [
    "#  Initiate Session!\n",
    "session = HTMLSession()\n",
    "\n",
    "    "
   ]
  },
  {
   "cell_type": "code",
   "execution_count": 16,
   "metadata": {},
   "outputs": [],
   "source": [
    "def fetch_map(url):\n",
    "    '''Fetch sitemap and return parsed txt'''\n",
    "    response=session.get(url)\n",
    "    return response\n",
    "\n",
    "def parse_xml(response,days=-7):\n",
    "    '''Parse response and return new URLS to crawl.\n",
    "        Returns list of urls added in the last 7 days\n",
    "    '''\n",
    "    urls = response.html.xpath('//loc/text()')\n",
    "    dates = [arrow.get(date) for date in response.html.xpath('//lastmod/text()')]\n",
    "    urls_to_crawl=[]\n",
    "    for x in enumerate(dates):\n",
    "        if x[1].date() - datetime.timedelta(days) > datetime.date.today():\n",
    "            urls_to_crawl.append(urls[x[0]])\n",
    "    return urls_to_crawl\n",
    "\n"
   ]
  },
  {
   "cell_type": "markdown",
   "metadata": {},
   "source": [
    "###### \"kk\", \"hs\", \"both\""
   ]
  },
  {
   "cell_type": "code",
   "execution_count": 17,
   "metadata": {
    "tags": []
   },
   "outputs": [
    {
     "output_type": "stream",
     "name": "stdout",
     "text": "None\n"
    }
   ],
   "source": [
    " \n",
    "def get_urls_to_crawl():\n",
    "    '''\n",
    "    Fetch sitemaps and determine what urls to crawl.\n",
    "    Return a dict of product urls per shop / sitemap\n",
    "    '''\n",
    "    kk_sitemap = 'https://knifekits.com/vcom/smproducts.xml'\n",
    "    hs_sitemap = 'https://holstersmith.com/vcom/smproducts.xml'\n",
    "\n",
    "    # parse_xml defaults to the last 7 days.\n",
    "    # This can be adjusted (days=-7), Negative values are in the past!\n",
    "    kk_urls =  parse_xml(fetch_map(kk_sitemap))\n",
    "    hs_urls =  parse_xml(fetch_map(hs_sitemap)) \n",
    "    \n",
    "    URLS = kk_urls.extend(hs_urls)\n",
    "    print(URLS)\n",
    "    \n",
    "    results = {\"kk\":kk_urls,\"hs\":hs_urls,\"both\":[kk_urls,hs_urls]}\n",
    "    return results\n",
    "\n",
    "\n",
    "urls=get_urls_to_crawl()\n",
    "\n",
    "    "
   ]
  },
  {
   "cell_type": "code",
   "execution_count": 18,
   "metadata": {
    "tags": []
   },
   "outputs": [
    {
     "output_type": "stream",
     "name": "stdout",
     "text": "{'kk': ['https://www.knifekits.com/vcom/product_info.php?products_id=9793', 'https://www.knifekits.com/vcom/product_info.php?products_id=1517', 'https://www.knifekits.com/vcom/product_info.php?products_id=2817', 'https://www.knifekits.com/vcom/product_info.php?products_id=957', 'https://www.knifekits.com/vcom/product_info.php?products_id=1760', 'https://www.knifekits.com/vcom/product_info.php?products_id=295', 'https://www.knifekits.com/vcom/product_info.php?products_id=605', 'https://www.knifekits.com/vcom/product_info.php?products_id=296', 'https://www.knifekits.com/vcom/product_info.php?products_id=8210', 'https://www.knifekits.com/vcom/product_info.php?products_id=7013', 'https://www.knifekits.com/vcom/product_info.php?products_id=8211', 'https://www.knifekits.com/vcom/product_info.php?products_id=8209', 'https://www.knifekits.com/vcom/product_info.php?products_id=7014', 'https://www.knifekits.com/vcom/product_info.php?products_id=16106', 'https://www.knifekits.com/vcom/product_info.php?products_id=8213', 'https://www.knifekits.com/vcom/product_info.php?products_id=8217', 'https://www.knifekits.com/vcom/product_info.php?products_id=5504', 'https://www.knifekits.com/vcom/product_info.php?products_id=5471', 'https://www.knifekits.com/vcom/product_info.php?products_id=12208', 'https://www.knifekits.com/vcom/product_info.php?products_id=16903', 'https://www.knifekits.com/vcom/product_info.php?products_id=13365', 'https://www.knifekits.com/vcom/product_info.php?products_id=627', 'https://www.knifekits.com/vcom/product_info.php?products_id=13364', 'https://www.knifekits.com/vcom/product_info.php?products_id=13363', 'https://www.knifekits.com/vcom/product_info.php?products_id=13362', 'https://www.knifekits.com/vcom/product_info.php?products_id=313', 'https://www.knifekits.com/vcom/product_info.php?products_id=13367', 'https://www.knifekits.com/vcom/product_info.php?products_id=13368', 'https://www.knifekits.com/vcom/product_info.php?products_id=13369', 'https://www.knifekits.com/vcom/product_info.php?products_id=13361', 'https://www.knifekits.com/vcom/product_info.php?products_id=13366', 'https://www.knifekits.com/vcom/product_info.php?products_id=582', 'https://www.knifekits.com/vcom/product_info.php?products_id=1781', 'https://www.knifekits.com/vcom/product_info.php?products_id=6409', 'https://www.knifekits.com/vcom/product_info.php?products_id=6408', 'https://www.knifekits.com/vcom/product_info.php?products_id=6407', 'https://www.knifekits.com/vcom/product_info.php?products_id=6406', 'https://www.knifekits.com/vcom/product_info.php?products_id=6405', 'https://www.knifekits.com/vcom/product_info.php?products_id=4051', 'https://www.knifekits.com/vcom/product_info.php?products_id=16908', 'https://www.knifekits.com/vcom/product_info.php?products_id=16902', 'https://www.knifekits.com/vcom/product_info.php?products_id=16894', 'https://www.knifekits.com/vcom/product_info.php?products_id=16888', 'https://www.knifekits.com/vcom/product_info.php?products_id=16886', 'https://www.knifekits.com/vcom/product_info.php?products_id=16901', 'https://www.knifekits.com/vcom/product_info.php?products_id=16899', 'https://www.knifekits.com/vcom/product_info.php?products_id=16897', 'https://www.knifekits.com/vcom/product_info.php?products_id=16900', 'https://www.knifekits.com/vcom/product_info.php?products_id=16887', 'https://www.knifekits.com/vcom/product_info.php?products_id=16898', 'https://www.knifekits.com/vcom/product_info.php?products_id=16889', 'https://www.knifekits.com/vcom/product_info.php?products_id=16893', 'https://www.knifekits.com/vcom/product_info.php?products_id=16892', 'https://www.knifekits.com/vcom/product_info.php?products_id=16895', 'https://www.knifekits.com/vcom/product_info.php?products_id=16890', 'https://www.knifekits.com/vcom/product_info.php?products_id=16891', 'https://www.knifekits.com/vcom/product_info.php?products_id=16906', 'https://www.knifekits.com/vcom/product_info.php?products_id=16904', 'https://www.knifekits.com/vcom/product_info.php?products_id=16885', 'https://www.knifekits.com/vcom/product_info.php?products_id=6403', 'https://www.knifekits.com/vcom/product_info.php?products_id=3787', 'https://www.knifekits.com/vcom/product_info.php?products_id=3786', 'https://www.knifekits.com/vcom/product_info.php?products_id=3785', 'https://www.knifekits.com/vcom/product_info.php?products_id=3784', 'https://www.knifekits.com/vcom/product_info.php?products_id=6404', 'https://www.knifekits.com/vcom/product_info.php?products_id=575', 'https://www.knifekits.com/vcom/product_info.php?products_id=576', 'https://www.knifekits.com/vcom/product_info.php?products_id=577', 'https://www.knifekits.com/vcom/product_info.php?products_id=574'], 'hs': [], 'both': [['https://www.knifekits.com/vcom/product_info.php?products_id=9793', 'https://www.knifekits.com/vcom/product_info.php?products_id=1517', 'https://www.knifekits.com/vcom/product_info.php?products_id=2817', 'https://www.knifekits.com/vcom/product_info.php?products_id=957', 'https://www.knifekits.com/vcom/product_info.php?products_id=1760', 'https://www.knifekits.com/vcom/product_info.php?products_id=295', 'https://www.knifekits.com/vcom/product_info.php?products_id=605', 'https://www.knifekits.com/vcom/product_info.php?products_id=296', 'https://www.knifekits.com/vcom/product_info.php?products_id=8210', 'https://www.knifekits.com/vcom/product_info.php?products_id=7013', 'https://www.knifekits.com/vcom/product_info.php?products_id=8211', 'https://www.knifekits.com/vcom/product_info.php?products_id=8209', 'https://www.knifekits.com/vcom/product_info.php?products_id=7014', 'https://www.knifekits.com/vcom/product_info.php?products_id=16106', 'https://www.knifekits.com/vcom/product_info.php?products_id=8213', 'https://www.knifekits.com/vcom/product_info.php?products_id=8217', 'https://www.knifekits.com/vcom/product_info.php?products_id=5504', 'https://www.knifekits.com/vcom/product_info.php?products_id=5471', 'https://www.knifekits.com/vcom/product_info.php?products_id=12208', 'https://www.knifekits.com/vcom/product_info.php?products_id=16903', 'https://www.knifekits.com/vcom/product_info.php?products_id=13365', 'https://www.knifekits.com/vcom/product_info.php?products_id=627', 'https://www.knifekits.com/vcom/product_info.php?products_id=13364', 'https://www.knifekits.com/vcom/product_info.php?products_id=13363', 'https://www.knifekits.com/vcom/product_info.php?products_id=13362', 'https://www.knifekits.com/vcom/product_info.php?products_id=313', 'https://www.knifekits.com/vcom/product_info.php?products_id=13367', 'https://www.knifekits.com/vcom/product_info.php?products_id=13368', 'https://www.knifekits.com/vcom/product_info.php?products_id=13369', 'https://www.knifekits.com/vcom/product_info.php?products_id=13361', 'https://www.knifekits.com/vcom/product_info.php?products_id=13366', 'https://www.knifekits.com/vcom/product_info.php?products_id=582', 'https://www.knifekits.com/vcom/product_info.php?products_id=1781', 'https://www.knifekits.com/vcom/product_info.php?products_id=6409', 'https://www.knifekits.com/vcom/product_info.php?products_id=6408', 'https://www.knifekits.com/vcom/product_info.php?products_id=6407', 'https://www.knifekits.com/vcom/product_info.php?products_id=6406', 'https://www.knifekits.com/vcom/product_info.php?products_id=6405', 'https://www.knifekits.com/vcom/product_info.php?products_id=4051', 'https://www.knifekits.com/vcom/product_info.php?products_id=16908', 'https://www.knifekits.com/vcom/product_info.php?products_id=16902', 'https://www.knifekits.com/vcom/product_info.php?products_id=16894', 'https://www.knifekits.com/vcom/product_info.php?products_id=16888', 'https://www.knifekits.com/vcom/product_info.php?products_id=16886', 'https://www.knifekits.com/vcom/product_info.php?products_id=16901', 'https://www.knifekits.com/vcom/product_info.php?products_id=16899', 'https://www.knifekits.com/vcom/product_info.php?products_id=16897', 'https://www.knifekits.com/vcom/product_info.php?products_id=16900', 'https://www.knifekits.com/vcom/product_info.php?products_id=16887', 'https://www.knifekits.com/vcom/product_info.php?products_id=16898', 'https://www.knifekits.com/vcom/product_info.php?products_id=16889', 'https://www.knifekits.com/vcom/product_info.php?products_id=16893', 'https://www.knifekits.com/vcom/product_info.php?products_id=16892', 'https://www.knifekits.com/vcom/product_info.php?products_id=16895', 'https://www.knifekits.com/vcom/product_info.php?products_id=16890', 'https://www.knifekits.com/vcom/product_info.php?products_id=16891', 'https://www.knifekits.com/vcom/product_info.php?products_id=16906', 'https://www.knifekits.com/vcom/product_info.php?products_id=16904', 'https://www.knifekits.com/vcom/product_info.php?products_id=16885', 'https://www.knifekits.com/vcom/product_info.php?products_id=6403', 'https://www.knifekits.com/vcom/product_info.php?products_id=3787', 'https://www.knifekits.com/vcom/product_info.php?products_id=3786', 'https://www.knifekits.com/vcom/product_info.php?products_id=3785', 'https://www.knifekits.com/vcom/product_info.php?products_id=3784', 'https://www.knifekits.com/vcom/product_info.php?products_id=6404', 'https://www.knifekits.com/vcom/product_info.php?products_id=575', 'https://www.knifekits.com/vcom/product_info.php?products_id=576', 'https://www.knifekits.com/vcom/product_info.php?products_id=577', 'https://www.knifekits.com/vcom/product_info.php?products_id=574'], []]}\n"
    }
   ],
   "source": [
    "print(urls)"
   ]
  },
  {
   "cell_type": "code",
   "execution_count": 49,
   "metadata": {},
   "outputs": [],
   "source": [
    "def parse_url(url):\n",
    "    '''Parse url for product data\n",
    "        Return dict(data)\n",
    "    '''\n",
    "    page = session.get(url)\n",
    "    name = page.html.xpath('//h1/descendant-or-self::span[@itemprop=\"name\"]/text()')\n",
    "    raw_desc=page.html.xpath('//div[@itemprop=\"description\"]')[0]\n",
    "    description = page.html.xpath('//div[@itemprop=\"description\"]/descendant-or-self::text()')\n",
    "    price=page.html.xpath('//*[@itemprop=\"price\"]/@content')[0]\n",
    "    sku=page.html.xpath(\".//*[@itemprop='model']/text()\")[0]\n",
    "    \n",
    "    keywords = page.html.xpath(\".//meta[@name='keywords']/@content\")\n",
    "    breadcrumbs = page.html.xpath('//*[@class=\"breadcrumb\"]/descendant::text()')[2::2]\n",
    "    image = page.html.xpath('.//div[@class=\"piGalMain\"]/img/@src')[0]\n",
    "    all_images = page.html.xpath('//img/@src')\n",
    "    images = [img for img in all_images if \"600\" in img or \"800\" or \"550\" in img and \".jpg\" in img]\n",
    "    cat = breadcrumbs[1]\n",
    "    subcat=breadcrumbs[2]\n",
    "    Data = {\"raw_desc\": raw_desc,\n",
    "            \n",
    "\n",
    "            \"name\": name,\n",
    "            \"description\": description,\n",
    "            \"price\":price,\n",
    "            \"sku\":sku,\n",
    "            \"keywords\":keywords,\n",
    "            \"breadcrumbs\":breadcrumbs,\n",
    "            \"image\":image,\n",
    "            \"images\":images,\n",
    "            \"link\":url,\n",
    "            \"category\":cat,\n",
    "            \"subcategory\":subcat\n",
    "            }\n",
    "    return Data\n"
   ]
  },
  {
   "cell_type": "markdown",
   "metadata": {},
   "source": [
    "### Get new product urls for each shop / sitemap"
   ]
  },
  {
   "cell_type": "code",
   "execution_count": 50,
   "metadata": {},
   "outputs": [],
   "source": [
    "data = parse_url(urls['kk'][10])"
   ]
  },
  {
   "cell_type": "markdown",
   "metadata": {},
   "source": [
    "### Fetch Product data from a url"
   ]
  },
  {
   "cell_type": "markdown",
   "metadata": {},
   "source": [
    "#### Django Model: \n",
    "* raw_desc (summernote field)\n",
    "* description (textfield)\n",
    "* name\n",
    "* image urlfield\n",
    "* images list of urlfields\n",
    "* description: description txt by line\n",
    "* price \n",
    "* url\n",
    "* breadcrumbs\n",
    "* date_crawled Datetime\n",
    "* modified_date date modified\n",
    "* shop foreignkey!?\n",
    "\n"
   ]
  },
  {
   "cell_type": "code",
   "execution_count": 21,
   "metadata": {},
   "outputs": [
    {
     "output_type": "execute_result",
     "data": {
      "text/plain": "dict_keys(['raw_desc', 'name', 'description', 'price', 'sku', 'keywords', 'breadcrumbs', 'image', 'images', 'link', 'category', 'subcategory'])"
     },
     "metadata": {},
     "execution_count": 21
    }
   ],
   "source": [
    "# \"raw_desc\": \n",
    "# \"description\": [str,]\n",
    "# \"price\":price,\n",
    "# \"sku\":sku,\n",
    "# \"keywords\":keywords,\n",
    "# \"breadcrumbs\":breadcrumbs,\n",
    "# \"image\":image,\n",
    "# \"images\":images,\n",
    "# \"link\":url,\n",
    "# \"category\":cat,\n",
    "# \"subcategory\":subcat\n",
    "\n",
    "data.keys()\n"
   ]
  },
  {
   "cell_type": "markdown",
   "metadata": {},
   "source": [
    "## Search for a SKU"
   ]
  },
  {
   "cell_type": "code",
   "execution_count": 47,
   "metadata": {},
   "outputs": [],
   "source": [
    "\n",
    "def load_crawled_item_into_django(data,*args,**kwargs):\n",
    "    item={}\n",
    "    for key in data.keys():\n",
    "        item[key]=data[key]\n",
    "    \n",
    "    shop=\"Knifekits.com\"\n",
    "    Product.objects.get_or_create(\n",
    "         sku=item['sku'],\n",
    "         description=item['raw_desc'],\n",
    "         desc_text=item['description'],\n",
    "         price=item['price'],\n",
    "         url=item['link'],\n",
    "         metaKeywords=item['keywords'],\n",
    "         image=item['image'],\n",
    "         images=item['image'],\n",
    "         breadcrumbs=item['breadcrumbs'],\n",
    "         name=item['name'],\n",
    "         category=item['category'],\n",
    "         subcat=item['subcat'],\n",
    "         )\n",
    "    return item\n",
    "\n",
    "\n"
   ]
  },
  {
   "cell_type": "code",
   "execution_count": 51,
   "metadata": {
    "tags": []
   },
   "outputs": [
    {
     "output_type": "error",
     "ename": "NameError",
     "evalue": "name 'Product' is not defined",
     "traceback": [
      "\u001b[1;31m---------------------------------------------------------------------------\u001b[0m",
      "\u001b[1;31mNameError\u001b[0m                                 Traceback (most recent call last)",
      "\u001b[1;32m<ipython-input-51-674905e766b9>\u001b[0m in \u001b[0;36m<module>\u001b[1;34m\u001b[0m\n\u001b[1;32m----> 1\u001b[1;33m \u001b[0mProduct\u001b[0m\u001b[1;33m.\u001b[0m\u001b[0mobjects\u001b[0m\u001b[1;33m.\u001b[0m\u001b[0mcreate\u001b[0m\u001b[1;33m(\u001b[0m\u001b[0mname\u001b[0m\u001b[1;33m=\u001b[0m\u001b[0mdata\u001b[0m\u001b[1;33m[\u001b[0m\u001b[1;34m'name'\u001b[0m\u001b[1;33m]\u001b[0m\u001b[1;33m,\u001b[0m\u001b[0msku\u001b[0m\u001b[1;33m=\u001b[0m\u001b[0mdata\u001b[0m\u001b[1;33m[\u001b[0m\u001b[1;34m'sku'\u001b[0m\u001b[1;33m]\u001b[0m\u001b[1;33m,\u001b[0m\u001b[0mimage\u001b[0m\u001b[1;33m=\u001b[0m\u001b[0mdata\u001b[0m\u001b[1;33m[\u001b[0m\u001b[1;34m'image'\u001b[0m\u001b[1;33m]\u001b[0m\u001b[1;33m,\u001b[0m\u001b[0mimages\u001b[0m\u001b[1;33m=\u001b[0m\u001b[0mdata\u001b[0m\u001b[1;33m[\u001b[0m\u001b[1;34m'images'\u001b[0m\u001b[1;33m]\u001b[0m\u001b[1;33m,\u001b[0m\u001b[0mdescription\u001b[0m\u001b[1;33m=\u001b[0m\u001b[0mdata\u001b[0m\u001b[1;33m[\u001b[0m\u001b[1;34m'raw_desc'\u001b[0m\u001b[1;33m]\u001b[0m\u001b[1;33m,\u001b[0m\u001b[0mdesc_txt\u001b[0m\u001b[1;33m=\u001b[0m\u001b[0mdata\u001b[0m\u001b[1;33m[\u001b[0m\u001b[1;34m'description'\u001b[0m\u001b[1;33m]\u001b[0m\u001b[1;33m,\u001b[0m\u001b[0mprice\u001b[0m\u001b[1;33m=\u001b[0m\u001b[0mdata\u001b[0m\u001b[1;33m[\u001b[0m\u001b[1;34m'price'\u001b[0m\u001b[1;33m]\u001b[0m\u001b[1;33m,\u001b[0m\u001b[0mbreadcrumbs\u001b[0m\u001b[1;33m=\u001b[0m\u001b[0mdata\u001b[0m\u001b[1;33m[\u001b[0m\u001b[1;34m'breadcrumbs'\u001b[0m\u001b[1;33m]\u001b[0m\u001b[1;33m,\u001b[0m\u001b[0murl\u001b[0m\u001b[1;33m=\u001b[0m\u001b[0mdata\u001b[0m\u001b[1;33m[\u001b[0m\u001b[1;34m'link'\u001b[0m\u001b[1;33m]\u001b[0m\u001b[1;33m,\u001b[0m\u001b[0mcategory\u001b[0m\u001b[1;33m=\u001b[0m\u001b[0mdata\u001b[0m\u001b[1;33m[\u001b[0m\u001b[1;34m'category'\u001b[0m\u001b[1;33m]\u001b[0m\u001b[1;33m,\u001b[0m\u001b[0msubcat\u001b[0m\u001b[1;33m=\u001b[0m\u001b[0mdata\u001b[0m\u001b[1;33m[\u001b[0m\u001b[1;34m'subcat'\u001b[0m\u001b[1;33m]\u001b[0m\u001b[1;33m)\u001b[0m\u001b[1;33m\u001b[0m\u001b[1;33m\u001b[0m\u001b[0m\n\u001b[0m",
      "\u001b[1;31mNameError\u001b[0m: name 'Product' is not defined"
     ]
    }
   ],
   "source": [
    "Product.objects.create(name=data['name'],sku=data['sku'],image=data['image'],images=data['images'],description=data['raw_desc'],desc_txt=data['description'],price=data['price'],breadcrumbs=data['breadcrumbs'],url=data['link'],category=data['category'],subcat=data['subcat'])"
   ]
  },
  {
   "cell_type": "code",
   "execution_count": 52,
   "metadata": {},
   "outputs": [],
   "source": [
    "def check_for_sku(shop_url, sku):\n",
    "    '''\n",
    "    Send a POST req to shop_url's search box\n",
    "    If SKU is found, fetch the product_detail page and return it\n",
    "    '''\n",
    "    session.post(shop_url + sku)\n",
    "    ###\n",
    "    \n",
    "#         MATCH = search_results.html.find('a[@itemprop=\"url\"]', first=True)\n",
    "#         if not MATCH:\n",
    "#             print(\"No Matches!\")\n",
    "#             return False\n",
    "#         else:\n",
    "#             print(\"Match Found!\", MATCH.attrs['href'])\n",
    "#             return ses.get(MATCH.attrs['href'])"
   ]
  },
  {
   "cell_type": "code",
   "execution_count": 16,
   "metadata": {},
   "outputs": [
    {
     "name": "stdout",
     "output_type": "stream",
     "text": [
      "200\n"
     ]
    }
   ],
   "source": [
    "print(r.status_code)\n"
   ]
  },
  {
   "cell_type": "code",
   "execution_count": null,
   "metadata": {},
   "outputs": [],
   "source": [
    "\n"
   ]
  },
  {
   "cell_type": "code",
   "execution_count": 22,
   "metadata": {},
   "outputs": [
    {
     "name": "stdout",
     "output_type": "stream",
     "text": [
      "https://www.knifekits.com/vcom/gentlemans-companion-combo-knife-kit-diy-blade-blank-wbloodwood-p-14556.html?osCsid=764blpj9rhlsosqe27a4db8984\n"
     ]
    },
    {
     "data": {
      "text/plain": [
       "'https://www.knifekits.com/vcom/gentlemans-companion-combo-knife-kit-diy-blade-blank-wbloodwood-p-14556.html?osCsid=764blpj9rhlsosqe27a4db8984'"
      ]
     },
     "execution_count": 22,
     "metadata": {},
     "output_type": "execute_result"
    }
   ],
   "source": [
    "import requests\n",
    "sku='3975'\n",
    "r=requests.post('https://knifekits.com/vcom/advanced_search_result.php?keywords={}'.format('KK706BL-BLDWD-K'))\n",
    "\n",
    "results_page=html.fromstring(r.content)\n",
    "if results_page.xpath('//*[@class=\"alert alert-info\"]'):\n",
    "    print(\"No match\")\n",
    "else:\n",
    "    m=results_page.xpath(\"//a[@itemprop='url']/descendant-or-self::a/@href\")\n",
    "    print(m[0])\n",
    "m=results_page.xpath('//*[@itemprop=\"url\"]')[0]\n",
    "m.attrib['href']     "
   ]
  },
  {
   "cell_type": "code",
   "execution_count": null,
   "metadata": {},
   "outputs": [],
   "source": []
  },
  {
   "cell_type": "code",
   "execution_count": null,
   "metadata": {},
   "outputs": [],
   "source": []
  },
  {
   "cell_type": "code",
   "execution_count": null,
   "metadata": {},
   "outputs": [],
   "source": []
  }
 ],
 "metadata": {
  "celltoolbar": "Raw Cell Format",
  "kernelspec": {
   "display_name": "Python 3.8.5 64-bit ('venv')",
   "language": "python",
   "name": "python_defaultSpec_1601004556910"
  },
  "language_info": {
   "codemirror_mode": {
    "name": "ipython",
    "version": 3
   },
   "file_extension": ".py",
   "mimetype": "text/x-python",
   "name": "python",
   "nbconvert_exporter": "python",
   "pygments_lexer": "ipython3",
   "version": "3.8.5-final"
  }
 },
 "nbformat": 4,
 "nbformat_minor": 4
}