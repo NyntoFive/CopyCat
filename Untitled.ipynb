{
 "cells": [
  {
   "cell_type": "markdown",
   "metadata": {},
   "source": [
    "# CKK Product Spider / Scripts"
   ]
  },
  {
   "cell_type": "code",
   "execution_count": 1,
   "metadata": {},
   "outputs": [
    {
     "ename": "ModuleNotFoundError",
     "evalue": "No module named 'arrow'",
     "output_type": "error",
     "traceback": [
      "\u001b[1;31m---------------------------------------------------------------------------\u001b[0m",
      "\u001b[1;31mModuleNotFoundError\u001b[0m                       Traceback (most recent call last)",
      "\u001b[1;32m<ipython-input-1-d7a63c38b9fe>\u001b[0m in \u001b[0;36m<module>\u001b[1;34m\u001b[0m\n\u001b[0;32m      4\u001b[0m \u001b[1;32mimport\u001b[0m \u001b[0mglob\u001b[0m\u001b[1;33m\u001b[0m\u001b[1;33m\u001b[0m\u001b[0m\n\u001b[0;32m      5\u001b[0m \u001b[1;32mimport\u001b[0m \u001b[0murllib\u001b[0m\u001b[1;33m\u001b[0m\u001b[1;33m\u001b[0m\u001b[0m\n\u001b[1;32m----> 6\u001b[1;33m \u001b[1;32mimport\u001b[0m \u001b[0marrow\u001b[0m\u001b[1;33m\u001b[0m\u001b[1;33m\u001b[0m\u001b[0m\n\u001b[0m\u001b[0;32m      7\u001b[0m \u001b[1;32mfrom\u001b[0m \u001b[0mrequests_html\u001b[0m \u001b[1;32mimport\u001b[0m \u001b[0mHTMLSession\u001b[0m\u001b[1;33m\u001b[0m\u001b[1;33m\u001b[0m\u001b[0m\n\u001b[0;32m      8\u001b[0m \u001b[1;32mimport\u001b[0m \u001b[0mdatetime\u001b[0m\u001b[1;33m\u001b[0m\u001b[1;33m\u001b[0m\u001b[0m\n",
      "\u001b[1;31mModuleNotFoundError\u001b[0m: No module named 'arrow'"
     ]
    }
   ],
   "source": [
    "import requests\n",
    "from lxml import html\n",
    "import os\n",
    "import glob\n",
    "import urllib\n",
    "import arrow\n",
    "from requests_html import HTMLSession\n",
    "import datetime"
   ]
  },
  {
   "cell_type": "markdown",
   "metadata": {},
   "source": [
    "## Functions"
   ]
  },
  {
   "cell_type": "code",
   "execution_count": null,
   "metadata": {},
   "outputs": [],
   "source": [
    "#  Initiate Session!\n",
    "session = HTMLSession()\n",
    "\n",
    "    "
   ]
  },
  {
   "cell_type": "code",
   "execution_count": 3,
   "metadata": {},
   "outputs": [],
   "source": [
    "def fetch_map(url):\n",
    "    '''Fetch sitemap and return parsed txt'''\n",
    "    response=session.get(url)\n",
    "    return response\n",
    "\n",
    "def parse_xml(response,days=-7):\n",
    "    '''Parse response and return new URLS to crawl.\n",
    "        Returns list of urls added in the last 7 days\n",
    "    '''\n",
    "    urls = response.html.xpath('//loc/text()')\n",
    "    dates = [arrow.get(date) for date in response.html.xpath('//lastmod/text()')]\n",
    "    urls_to_crawl=[]\n",
    "    for x in enumerate(dates):\n",
    "        if x[1].date() - datetime.timedelta(days) > datetime.date.today():\n",
    "            urls_to_crawl.append(urls[x[0]])\n",
    "    return urls_to_crawl\n",
    "\n"
   ]
  },
  {
   "cell_type": "markdown",
   "metadata": {},
   "source": [
    "### Parse all urls modified in the last X days.  (Default: -7days)"
   ]
  },
  {
   "cell_type": "code",
   "execution_count": 4,
   "metadata": {},
   "outputs": [],
   "source": [
    "def parse_url(url):\n",
    "    '''Parse url for product data\n",
    "        Return dict(data)\n",
    "    '''\n",
    "    page = session.get(url)\n",
    "    raw_desc=page.html.xpath('//div[@itemprop=\"description\"]')[0]\n",
    "    description = page.html.xpath('//div[@itemprop=\"description\"]/descendant-or-self::text()')\n",
    "    price=page.html.xpath('//*[@itemprop=\"price\"]/@content')[0]\n",
    "    sku=page.html.xpath(\".//*[@itemprop='model']/text()\")[0]\n",
    "    keywords = page.html.xpath(\".//meta[@name='keywords']/@content\")\n",
    "    breadcrumbs = page.html.xpath('//*[@class=\"breadcrumb\"]/descendant::text()')[2::2]\n",
    "    image = page.html.xpath('.//div[@class=\"piGalMain\"]/img/@src')[0]\n",
    "    all_images = page.html.xpath('//img/@src')\n",
    "    images = [img for img in all_images if \"600\" in img or \"800\" or \"550\" in img and \".jpg\" in img]\n",
    "    cat = breadcrumbs[1]\n",
    "    subcat=breadcrumbs[2]\n",
    "    Data = {\"raw_desc\": raw_desc,\n",
    "            \"description\": description,\n",
    "            \"price\":price,\n",
    "            \"sku\":sku,\n",
    "            \"keywords\":keywords,\n",
    "            \"breadcrumbs\":breadcrumbs,\n",
    "            \"image\":image,\n",
    "            \"images\":images,\n",
    "            \"link\":url,\n",
    "            \"category\":cat,\n",
    "            \"subcategory\":subcat\n",
    "            }\n",
    "    return Data\n"
   ]
  },
  {
   "cell_type": "code",
   "execution_count": 75,
   "metadata": {},
   "outputs": [],
   "source": [
    "test=parse_url(urls['kk'][2])"
   ]
  },
  {
   "cell_type": "markdown",
   "metadata": {},
   "source": [
    "### Get new product urls for each shop / sitemap"
   ]
  },
  {
   "cell_type": "code",
   "execution_count": 61,
   "metadata": {},
   "outputs": [
    {
     "name": "stdout",
     "output_type": "stream",
     "text": [
      "None\n"
     ]
    }
   ],
   "source": [
    " \n",
    "def get_urls_to_crawl():\n",
    "    '''\n",
    "    Fetch sitemaps and determine what urls to crawl.\n",
    "    Return a dict of product urls per shop / sitemap\n",
    "    '''\n",
    "    kk_sitemap = 'https://knifekits.com/vcom/smproducts.xml'\n",
    "    hs_sitemap = 'https://holstersmith.com/vcom/smproducts.xml'\n",
    "\n",
    "    # parse_xml defaults to the last 7 days.\n",
    "    # This can be adjusted (days=-7), Negative values are in the past!\n",
    "    kk_urls =  parse_xml(fetch_map(kk_sitemap))\n",
    "    hs_urls =  parse_xml(fetch_map(hs_sitemap)) \n",
    "    \n",
    "    URLS = kk_urls.extend(hs_urls)\n",
    "    print(URLS)\n",
    "    \n",
    "    results = {\"kk\":kk_urls,\"hs\":hs_urls,\"both\":[kk_urls,hs_urls]}\n",
    "    return results\n",
    "\n",
    "\n",
    "urls=get_urls_to_crawl()\n",
    "\n",
    "    "
   ]
  },
  {
   "cell_type": "markdown",
   "metadata": {},
   "source": [
    "### Fetch Product data from a url"
   ]
  },
  {
   "cell_type": "markdown",
   "metadata": {},
   "source": [
    "### Data Model"
   ]
  },
  {
   "cell_type": "code",
   "execution_count": 5,
   "metadata": {},
   "outputs": [
    {
     "ename": "SyntaxError",
     "evalue": "invalid syntax (<ipython-input-5-38df358e357c>, line 1)",
     "output_type": "error",
     "traceback": [
      "\u001b[1;36m  File \u001b[1;32m\"<ipython-input-5-38df358e357c>\"\u001b[1;36m, line \u001b[1;32m1\u001b[0m\n\u001b[1;33m    \"raw_desc\":\u001b[0m\n\u001b[1;37m                ^\u001b[0m\n\u001b[1;31mSyntaxError\u001b[0m\u001b[1;31m:\u001b[0m invalid syntax\n"
     ]
    }
   ],
   "source": [
    "\"raw_desc\": \n",
    "    The raw html block containing the product description, images, and video.\n",
    "    Saves original formatting / whitespace throw it in a template\n",
    "\"description\": [str,]\n",
    "\"price\":price,\n",
    "            \"sku\":sku,\n",
    "            \"keywords\":keywords,\n",
    "            \"breadcrumbs\":breadcrumbs,\n",
    "            \"image\":image,\n",
    "            \"images\":images,\n",
    "            \"link\":url,\n",
    "            \"category\":cat,\n",
    "            \"subcategory\":subcat\n",
    "    "
   ]
  },
  {
   "cell_type": "code",
   "execution_count": 83,
   "metadata": {},
   "outputs": [
    {
     "data": {
      "text/plain": [
       "{'raw_desc': <Element 'div' itemprop='description'>,\n",
       " 'description': ['\\n',\n",
       "  '\\n',\n",
       "  'A solvent-based primer that features very long on-part life. Used to speed the cure of all Loctite® Anaerobic Products and ensure proper cure on inactive metals. Ideal for cure conditions below room temperature. Typical Applications Activator for Anaerobic Machinery Adhesives, Acrylic Structural Adhesives, and secondary cure of UV Curable Adhesives. This bottle actually gives you more usable Loctite because it is not an aerosol. It comes with the spray applicator.',\n",
       "  '\\n',\n",
       "  '\\r\\n\\tRecommended for surface preparation use with Loctite 242, 262 and 680 compounds.',\n",
       "  ' '],\n",
       " 'price': '15.95',\n",
       " 'sku': '3957',\n",
       " 'keywords': ['Solvent, Loctite, Anaerobic, Adhesive, loctite knife primer, loctite for knives, knifekits.com'],\n",
       " 'breadcrumbs': ['Catalog', 'Knife Making - Tools', 'Adhesives', '3957'],\n",
       " 'image': 'images/loctite_7649_1_600.jpg',\n",
       " 'images': ['images/cartlogo.gif',\n",
       "  'images/loctite_7649_1_600.jpg',\n",
       "  'images/loctite_7649_1_600.jpg',\n",
       "  'loctite_7649_1_600.jpg',\n",
       "  '../vcom/images/graphics/pricematch.jpg',\n",
       "  '../vcom/images/graphics/facebook/knifekits_fb.gif',\n",
       "  'images/social_bookmarks/email.png',\n",
       "  'images/social_bookmarks/facebook.png',\n",
       "  'images/social_bookmarks/twitter.png',\n",
       "  '//assets.pinterest.com/images/PinExt.png',\n",
       "  'images/social_bookmarks/digg.png',\n",
       "  'images/cgm_sa-xdm-38-ct_1_150.jpg',\n",
       "  'images/rev_spgfld-xdm-45-45_1_150.jpg',\n",
       "  '../vcom/images/graphics/subscribe_box.gif',\n",
       "  'images/footerlogo.gif'],\n",
       " 'link': 'https://www.knifekits.com/vcom/product_info.php?products_id=2817',\n",
       " 'category': 'Knife Making - Tools',\n",
       " 'subcategory': 'Adhesives'}"
      ]
     },
     "execution_count": 83,
     "metadata": {},
     "output_type": "execute_result"
    }
   ],
   "source": [
    "urls['kk'][0]\n",
    "test"
   ]
  },
  {
   "cell_type": "code",
   "execution_count": 6,
   "metadata": {},
   "outputs": [
    {
     "ename": "NameError",
     "evalue": "name 'test' is not defined",
     "output_type": "error",
     "traceback": [
      "\u001b[1;31m---------------------------------------------------------------------------\u001b[0m",
      "\u001b[1;31mNameError\u001b[0m                                 Traceback (most recent call last)",
      "\u001b[1;32m<ipython-input-6-41b7fe3b6fa1>\u001b[0m in \u001b[0;36m<module>\u001b[1;34m\u001b[0m\n\u001b[1;32m----> 1\u001b[1;33m \u001b[0msku\u001b[0m\u001b[1;33m=\u001b[0m\u001b[0mtest\u001b[0m\u001b[1;33m[\u001b[0m\u001b[1;34m'sku'\u001b[0m\u001b[1;33m]\u001b[0m\u001b[1;33m\u001b[0m\u001b[1;33m\u001b[0m\u001b[0m\n\u001b[0m\u001b[0;32m      2\u001b[0m \u001b[0mr\u001b[0m\u001b[1;33m=\u001b[0m\u001b[0msession\u001b[0m\u001b[1;33m.\u001b[0m\u001b[0mpost\u001b[0m\u001b[1;33m(\u001b[0m\u001b[1;34m\"https://knifekits.com/vcom/advanced_search_result.php?keywords=\"\u001b[0m\u001b[1;33m+\u001b[0m\u001b[0murllib\u001b[0m\u001b[1;33m.\u001b[0m\u001b[0mparse\u001b[0m\u001b[1;33m.\u001b[0m\u001b[0mquote\u001b[0m\u001b[1;33m(\u001b[0m\u001b[0msku\u001b[0m\u001b[1;33m)\u001b[0m\u001b[1;33m)\u001b[0m\u001b[1;33m\u001b[0m\u001b[1;33m\u001b[0m\u001b[0m\n",
      "\u001b[1;31mNameError\u001b[0m: name 'test' is not defined"
     ]
    }
   ],
   "source": [
    "sku=test['sku']\n",
    "r=session.post(\"https://knifekits.com/vcom/advanced_search_result.php?keywords=\"+urllib.parse.quote(sku))\n"
   ]
  },
  {
   "cell_type": "code",
   "execution_count": 77,
   "metadata": {},
   "outputs": [],
   "source": [
    "def check_for_sku(sku, shop):\n",
    "        \"\"\"Search for a product SKU from various storefronts\n",
    "            sku=\"AV-KYSHE-BTLSHP-06-2448\"\n",
    "            KK_unique=\"KK706BL-BLDWD-K\"\n",
    "            shop=\"https://knifekits.com/vcom/\" or holstersmith...\n",
    "        \n",
    "        If SKU is found, fetch the product_detail page and return it\n",
    "        Else, return False\n",
    "        \"\"\"\n",
    "        url =  \"advanced_search_result.php?keywords=\" + urllib.parse.quote(sku)\n",
    "        search_results = ses.post(shop + url)\n",
    "    \n",
    "        MATCH = search_results.html.find('a[@itemprop=\"url\"]', first=True)\n",
    "        if not MATCH:\n",
    "            print(\"No Matches!\")\n",
    "            return False\n",
    "        else:\n",
    "            print(\"Match Found!\", MATCH.attrs['href'])\n",
    "            return ses.get(MATCH.attrs['href'])"
   ]
  },
  {
   "cell_type": "code",
   "execution_count": 7,
   "metadata": {
    "tags": []
   },
   "outputs": [
    {
     "name": "stdout",
     "output_type": "stream",
     "text": [
      "200\n"
     ]
    }
   ],
   "source": [
    "import requests\n",
    "sku='3957'\n",
    "r=requests.post(f'https://knifekits.com/vcom/advanced_search_result.php?keywords={sku}')\n",
    "\n",
    "print(r.status_code)\n"
   ]
  },
  {
   "cell_type": "code",
   "execution_count": 8,
   "metadata": {},
   "outputs": [
    {
     "data": {
      "text/plain": [
       "'https://knifekits.com/vcom/advanced_search_result.php?keywords=3957'"
      ]
     },
     "execution_count": 8,
     "metadata": {},
     "output_type": "execute_result"
    }
   ],
   "source": [
    "results_page=html.fromstring(r.content)\n",
    "r.url"
   ]
  },
  {
   "cell_type": "code",
   "execution_count": 18,
   "metadata": {
    "tags": []
   },
   "outputs": [
    {
     "name": "stdout",
     "output_type": "stream",
     "text": [
      "url:  https://www.knifekits.com/vcom/loctite-7649-surface-primer-175-p-2817.html\n"
     ]
    }
   ],
   "source": [
    "if results_page.xpath('//*[@class=\"alert alert-info\"]'):\n",
    "    print(\"No match\")\n",
    "else:\n",
    "    match=results_page.xpath('//div[@id=\"products\"]/descendant::a[@itemprop=\"url\"]/@href')[0].split(\"?\")[0]\n",
    "\n",
    "    \n",
    "\n",
    "print(\"url: \", match)\n",
    "\n",
    "     "
   ]
  },
  {
   "cell_type": "code",
   "execution_count": 152,
   "metadata": {},
   "outputs": [
    {
     "data": {
      "text/plain": [
       "['__bool__',\n",
       " '__class__',\n",
       " '__contains__',\n",
       " '__copy__',\n",
       " '__deepcopy__',\n",
       " '__delattr__',\n",
       " '__delitem__',\n",
       " '__dict__',\n",
       " '__dir__',\n",
       " '__doc__',\n",
       " '__eq__',\n",
       " '__format__',\n",
       " '__ge__',\n",
       " '__getattribute__',\n",
       " '__getitem__',\n",
       " '__gt__',\n",
       " '__hash__',\n",
       " '__init__',\n",
       " '__init_subclass__',\n",
       " '__iter__',\n",
       " '__le__',\n",
       " '__len__',\n",
       " '__lt__',\n",
       " '__module__',\n",
       " '__ne__',\n",
       " '__new__',\n",
       " '__reduce__',\n",
       " '__reduce_ex__',\n",
       " '__repr__',\n",
       " '__reversed__',\n",
       " '__setattr__',\n",
       " '__setitem__',\n",
       " '__sizeof__',\n",
       " '__str__',\n",
       " '__subclasshook__',\n",
       " '__weakref__',\n",
       " '_init',\n",
       " 'addnext',\n",
       " 'addprevious',\n",
       " 'append',\n",
       " 'attrib',\n",
       " 'base',\n",
       " 'base_url',\n",
       " 'body',\n",
       " 'classes',\n",
       " 'clear',\n",
       " 'cssselect',\n",
       " 'drop_tag',\n",
       " 'drop_tree',\n",
       " 'extend',\n",
       " 'find',\n",
       " 'find_class',\n",
       " 'find_rel_links',\n",
       " 'findall',\n",
       " 'findtext',\n",
       " 'forms',\n",
       " 'get',\n",
       " 'get_element_by_id',\n",
       " 'getchildren',\n",
       " 'getiterator',\n",
       " 'getnext',\n",
       " 'getparent',\n",
       " 'getprevious',\n",
       " 'getroottree',\n",
       " 'head',\n",
       " 'index',\n",
       " 'insert',\n",
       " 'items',\n",
       " 'iter',\n",
       " 'iterancestors',\n",
       " 'iterchildren',\n",
       " 'iterdescendants',\n",
       " 'iterfind',\n",
       " 'iterlinks',\n",
       " 'itersiblings',\n",
       " 'itertext',\n",
       " 'keys',\n",
       " 'label',\n",
       " 'make_links_absolute',\n",
       " 'makeelement',\n",
       " 'nsmap',\n",
       " 'prefix',\n",
       " 'remove',\n",
       " 'replace',\n",
       " 'resolve_base_href',\n",
       " 'rewrite_links',\n",
       " 'set',\n",
       " 'sourceline',\n",
       " 'tag',\n",
       " 'tail',\n",
       " 'text',\n",
       " 'text_content',\n",
       " 'values',\n",
       " 'xpath']"
      ]
     },
     "execution_count": 152,
     "metadata": {},
     "output_type": "execute_result"
    }
   ],
   "source": [
    "m=results_page.xpath('//*[@itemprop=\"url\"]')[0]\n"
   ]
  },
  {
   "cell_type": "code",
   "execution_count": 160,
   "metadata": {},
   "outputs": [
    {
     "data": {
      "text/plain": [
       "'https://www.knifekits.com/vcom/gentlemans-companion-combo-knife-kit-diy-blade-blank-wbloodwood-p-14556.html?osCsid=icf6ve3uj2vu7vf8bd3ocujpa3'"
      ]
     },
     "execution_count": 160,
     "metadata": {},
     "output_type": "execute_result"
    }
   ],
   "source": [
    "m.attrib['href']"
   ]
  },
  {
   "cell_type": "code",
   "execution_count": null,
   "metadata": {},
   "outputs": [],
   "source": []
  }
 ],
 "metadata": {
  "kernelspec": {
   "display_name": "Python 3",
   "language": "python",
   "name": "python3"
  },
  "language_info": {
   "codemirror_mode": {
    "name": "ipython",
    "version": 3
   },
   "file_extension": ".py",
   "mimetype": "text/x-python",
   "name": "python",
   "nbconvert_exporter": "python",
   "pygments_lexer": "ipython3",
   "version": "3.8.5"
  }
 },
 "nbformat": 4,
 "nbformat_minor": 4
}
